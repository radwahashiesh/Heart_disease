{
  "nbformat": 4,
  "nbformat_minor": 0,
  "metadata": {
    "colab": {
      "name": "heartDisease.ipynb",
      "provenance": [],
      "collapsed_sections": [
        "4oHVq38Ws1pX"
      ]
    },
    "kernelspec": {
      "name": "python3",
      "display_name": "Python 3"
    },
    "language_info": {
      "name": "python"
    },
    "accelerator": "GPU",
    "gpuClass": "standard"
  },
  "cells": [
    {
      "cell_type": "markdown",
      "source": [
        "![index.jpg](data:image/jpeg;base64,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)\n",
        "\n",
        "\n",
        "\n",
        "# Heart Disease Prediction \n",
        "\n",
        "\n",
        "# Radwa Hussien Hashiesh \n",
        "I’m currently learning machine learning & deep learning \n",
        "linkedin: https://www.linkedin.com/in/radwa-hashiesh/"
      ],
      "metadata": {
        "id": "4oHVq38Ws1pX"
      }
    },
    {
      "cell_type": "markdown",
      "source": [
        "# libraries "
      ],
      "metadata": {
        "id": "uzW5acPbtHuU"
      }
    },
    {
      "cell_type": "code",
      "source": [
        "pip install CatBoost"
      ],
      "metadata": {
        "colab": {
          "base_uri": "https://localhost:8080/"
        },
        "id": "GONNajwhuLkt",
        "outputId": "93e60d3a-359f-42e7-b79c-c2ddf53fe363"
      },
      "execution_count": 93,
      "outputs": [
        {
          "output_type": "stream",
          "name": "stdout",
          "text": [
            "Looking in indexes: https://pypi.org/simple, https://us-python.pkg.dev/colab-wheels/public/simple/\n",
            "Requirement already satisfied: CatBoost in /usr/local/lib/python3.7/dist-packages (1.0.6)\n",
            "Requirement already satisfied: matplotlib in /usr/local/lib/python3.7/dist-packages (from CatBoost) (3.2.2)\n",
            "Requirement already satisfied: scipy in /usr/local/lib/python3.7/dist-packages (from CatBoost) (1.4.1)\n",
            "Requirement already satisfied: numpy>=1.16.0 in /usr/local/lib/python3.7/dist-packages (from CatBoost) (1.21.6)\n",
            "Requirement already satisfied: graphviz in /usr/local/lib/python3.7/dist-packages (from CatBoost) (0.10.1)\n",
            "Requirement already satisfied: six in /usr/local/lib/python3.7/dist-packages (from CatBoost) (1.15.0)\n",
            "Requirement already satisfied: pandas>=0.24.0 in /usr/local/lib/python3.7/dist-packages (from CatBoost) (1.3.5)\n",
            "Requirement already satisfied: plotly in /usr/local/lib/python3.7/dist-packages (from CatBoost) (5.5.0)\n",
            "Requirement already satisfied: python-dateutil>=2.7.3 in /usr/local/lib/python3.7/dist-packages (from pandas>=0.24.0->CatBoost) (2.8.2)\n",
            "Requirement already satisfied: pytz>=2017.3 in /usr/local/lib/python3.7/dist-packages (from pandas>=0.24.0->CatBoost) (2022.1)\n",
            "Requirement already satisfied: cycler>=0.10 in /usr/local/lib/python3.7/dist-packages (from matplotlib->CatBoost) (0.11.0)\n",
            "Requirement already satisfied: kiwisolver>=1.0.1 in /usr/local/lib/python3.7/dist-packages (from matplotlib->CatBoost) (1.4.3)\n",
            "Requirement already satisfied: pyparsing!=2.0.4,!=2.1.2,!=2.1.6,>=2.0.1 in /usr/local/lib/python3.7/dist-packages (from matplotlib->CatBoost) (3.0.9)\n",
            "Requirement already satisfied: typing-extensions in /usr/local/lib/python3.7/dist-packages (from kiwisolver>=1.0.1->matplotlib->CatBoost) (4.1.1)\n",
            "Requirement already satisfied: tenacity>=6.2.0 in /usr/local/lib/python3.7/dist-packages (from plotly->CatBoost) (8.0.1)\n"
          ]
        }
      ]
    },
    {
      "cell_type": "code",
      "execution_count": 94,
      "metadata": {
        "id": "mEcozyZgrt6t"
      },
      "outputs": [],
      "source": [
        "import pandas as pd\n",
        "import numpy as np\n",
        "import matplotlib.pyplot as plt\n",
        "import seaborn as sns\n",
        "import cufflinks as cf\n",
        "from sklearn.metrics import classification_report,confusion_matrix,accuracy_score,recall_score,f1_score,precision_score\n",
        "from sklearn.preprocessing import StandardScaler\n",
        "from sklearn.model_selection import  RandomizedSearchCV, train_test_split\n",
        "from sklearn.preprocessing import StandardScaler\n",
        "from sklearn.model_selection import  RandomizedSearchCV, train_test_split\n",
        "from xgboost import XGBClassifier\n",
        "from catboost import CatBoostClassifier\n",
        "from sklearn.ensemble import RandomForestClassifier\n",
        "from sklearn.neighbors import KNeighborsClassifier\n",
        "from sklearn.svm import SVC\n",
        "%matplotlib inline"
      ]
    },
    {
      "cell_type": "markdown",
      "source": [
        "# read dataset\n"
      ],
      "metadata": {
        "id": "2Nii9x6MulBk"
      }
    },
    {
      "cell_type": "code",
      "source": [
        "data = pd.read_csv(\"/content/drive/MyDrive/projects/heart disease/heart.csv\")"
      ],
      "metadata": {
        "id": "iVCThdhTtOKH"
      },
      "execution_count": 95,
      "outputs": []
    },
    {
      "cell_type": "code",
      "source": [
        "# to  show first 5 records \n",
        "data.head()"
      ],
      "metadata": {
        "colab": {
          "base_uri": "https://localhost:8080/",
          "height": 206
        },
        "id": "VgzciZlRuoiO",
        "outputId": "e0b04e83-9275-48ec-ec04-61a87006096f"
      },
      "execution_count": 96,
      "outputs": [
        {
          "output_type": "execute_result",
          "data": {
            "text/plain": [
              "   age  sex  cp  trestbps  chol  fbs  restecg  thalach  exang  oldpeak  slope  \\\n",
              "0   52    1   0       125   212    0        1      168      0      1.0      2   \n",
              "1   53    1   0       140   203    1        0      155      1      3.1      0   \n",
              "2   70    1   0       145   174    0        1      125      1      2.6      0   \n",
              "3   61    1   0       148   203    0        1      161      0      0.0      2   \n",
              "4   62    0   0       138   294    1        1      106      0      1.9      1   \n",
              "\n",
              "   ca  thal  target  \n",
              "0   2     3       0  \n",
              "1   0     3       0  \n",
              "2   0     3       0  \n",
              "3   1     3       0  \n",
              "4   3     2       0  "
            ],
            "text/html": [
              "\n",
              "  <div id=\"df-cdcda162-e781-4f88-8ef7-89e1ff924141\">\n",
              "    <div class=\"colab-df-container\">\n",
              "      <div>\n",
              "<style scoped>\n",
              "    .dataframe tbody tr th:only-of-type {\n",
              "        vertical-align: middle;\n",
              "    }\n",
              "\n",
              "    .dataframe tbody tr th {\n",
              "        vertical-align: top;\n",
              "    }\n",
              "\n",
              "    .dataframe thead th {\n",
              "        text-align: right;\n",
              "    }\n",
              "</style>\n",
              "<table border=\"1\" class=\"dataframe\">\n",
              "  <thead>\n",
              "    <tr style=\"text-align: right;\">\n",
              "      <th></th>\n",
              "      <th>age</th>\n",
              "      <th>sex</th>\n",
              "      <th>cp</th>\n",
              "      <th>trestbps</th>\n",
              "      <th>chol</th>\n",
              "      <th>fbs</th>\n",
              "      <th>restecg</th>\n",
              "      <th>thalach</th>\n",
              "      <th>exang</th>\n",
              "      <th>oldpeak</th>\n",
              "      <th>slope</th>\n",
              "      <th>ca</th>\n",
              "      <th>thal</th>\n",
              "      <th>target</th>\n",
              "    </tr>\n",
              "  </thead>\n",
              "  <tbody>\n",
              "    <tr>\n",
              "      <th>0</th>\n",
              "      <td>52</td>\n",
              "      <td>1</td>\n",
              "      <td>0</td>\n",
              "      <td>125</td>\n",
              "      <td>212</td>\n",
              "      <td>0</td>\n",
              "      <td>1</td>\n",
              "      <td>168</td>\n",
              "      <td>0</td>\n",
              "      <td>1.0</td>\n",
              "      <td>2</td>\n",
              "      <td>2</td>\n",
              "      <td>3</td>\n",
              "      <td>0</td>\n",
              "    </tr>\n",
              "    <tr>\n",
              "      <th>1</th>\n",
              "      <td>53</td>\n",
              "      <td>1</td>\n",
              "      <td>0</td>\n",
              "      <td>140</td>\n",
              "      <td>203</td>\n",
              "      <td>1</td>\n",
              "      <td>0</td>\n",
              "      <td>155</td>\n",
              "      <td>1</td>\n",
              "      <td>3.1</td>\n",
              "      <td>0</td>\n",
              "      <td>0</td>\n",
              "      <td>3</td>\n",
              "      <td>0</td>\n",
              "    </tr>\n",
              "    <tr>\n",
              "      <th>2</th>\n",
              "      <td>70</td>\n",
              "      <td>1</td>\n",
              "      <td>0</td>\n",
              "      <td>145</td>\n",
              "      <td>174</td>\n",
              "      <td>0</td>\n",
              "      <td>1</td>\n",
              "      <td>125</td>\n",
              "      <td>1</td>\n",
              "      <td>2.6</td>\n",
              "      <td>0</td>\n",
              "      <td>0</td>\n",
              "      <td>3</td>\n",
              "      <td>0</td>\n",
              "    </tr>\n",
              "    <tr>\n",
              "      <th>3</th>\n",
              "      <td>61</td>\n",
              "      <td>1</td>\n",
              "      <td>0</td>\n",
              "      <td>148</td>\n",
              "      <td>203</td>\n",
              "      <td>0</td>\n",
              "      <td>1</td>\n",
              "      <td>161</td>\n",
              "      <td>0</td>\n",
              "      <td>0.0</td>\n",
              "      <td>2</td>\n",
              "      <td>1</td>\n",
              "      <td>3</td>\n",
              "      <td>0</td>\n",
              "    </tr>\n",
              "    <tr>\n",
              "      <th>4</th>\n",
              "      <td>62</td>\n",
              "      <td>0</td>\n",
              "      <td>0</td>\n",
              "      <td>138</td>\n",
              "      <td>294</td>\n",
              "      <td>1</td>\n",
              "      <td>1</td>\n",
              "      <td>106</td>\n",
              "      <td>0</td>\n",
              "      <td>1.9</td>\n",
              "      <td>1</td>\n",
              "      <td>3</td>\n",
              "      <td>2</td>\n",
              "      <td>0</td>\n",
              "    </tr>\n",
              "  </tbody>\n",
              "</table>\n",
              "</div>\n",
              "      <button class=\"colab-df-convert\" onclick=\"convertToInteractive('df-cdcda162-e781-4f88-8ef7-89e1ff924141')\"\n",
              "              title=\"Convert this dataframe to an interactive table.\"\n",
              "              style=\"display:none;\">\n",
              "        \n",
              "  <svg xmlns=\"http://www.w3.org/2000/svg\" height=\"24px\"viewBox=\"0 0 24 24\"\n",
              "       width=\"24px\">\n",
              "    <path d=\"M0 0h24v24H0V0z\" fill=\"none\"/>\n",
              "    <path d=\"M18.56 5.44l.94 2.06.94-2.06 2.06-.94-2.06-.94-.94-2.06-.94 2.06-2.06.94zm-11 1L8.5 8.5l.94-2.06 2.06-.94-2.06-.94L8.5 2.5l-.94 2.06-2.06.94zm10 10l.94 2.06.94-2.06 2.06-.94-2.06-.94-.94-2.06-.94 2.06-2.06.94z\"/><path d=\"M17.41 7.96l-1.37-1.37c-.4-.4-.92-.59-1.43-.59-.52 0-1.04.2-1.43.59L10.3 9.45l-7.72 7.72c-.78.78-.78 2.05 0 2.83L4 21.41c.39.39.9.59 1.41.59.51 0 1.02-.2 1.41-.59l7.78-7.78 2.81-2.81c.8-.78.8-2.07 0-2.86zM5.41 20L4 18.59l7.72-7.72 1.47 1.35L5.41 20z\"/>\n",
              "  </svg>\n",
              "      </button>\n",
              "      \n",
              "  <style>\n",
              "    .colab-df-container {\n",
              "      display:flex;\n",
              "      flex-wrap:wrap;\n",
              "      gap: 12px;\n",
              "    }\n",
              "\n",
              "    .colab-df-convert {\n",
              "      background-color: #E8F0FE;\n",
              "      border: none;\n",
              "      border-radius: 50%;\n",
              "      cursor: pointer;\n",
              "      display: none;\n",
              "      fill: #1967D2;\n",
              "      height: 32px;\n",
              "      padding: 0 0 0 0;\n",
              "      width: 32px;\n",
              "    }\n",
              "\n",
              "    .colab-df-convert:hover {\n",
              "      background-color: #E2EBFA;\n",
              "      box-shadow: 0px 1px 2px rgba(60, 64, 67, 0.3), 0px 1px 3px 1px rgba(60, 64, 67, 0.15);\n",
              "      fill: #174EA6;\n",
              "    }\n",
              "\n",
              "    [theme=dark] .colab-df-convert {\n",
              "      background-color: #3B4455;\n",
              "      fill: #D2E3FC;\n",
              "    }\n",
              "\n",
              "    [theme=dark] .colab-df-convert:hover {\n",
              "      background-color: #434B5C;\n",
              "      box-shadow: 0px 1px 3px 1px rgba(0, 0, 0, 0.15);\n",
              "      filter: drop-shadow(0px 1px 2px rgba(0, 0, 0, 0.3));\n",
              "      fill: #FFFFFF;\n",
              "    }\n",
              "  </style>\n",
              "\n",
              "      <script>\n",
              "        const buttonEl =\n",
              "          document.querySelector('#df-cdcda162-e781-4f88-8ef7-89e1ff924141 button.colab-df-convert');\n",
              "        buttonEl.style.display =\n",
              "          google.colab.kernel.accessAllowed ? 'block' : 'none';\n",
              "\n",
              "        async function convertToInteractive(key) {\n",
              "          const element = document.querySelector('#df-cdcda162-e781-4f88-8ef7-89e1ff924141');\n",
              "          const dataTable =\n",
              "            await google.colab.kernel.invokeFunction('convertToInteractive',\n",
              "                                                     [key], {});\n",
              "          if (!dataTable) return;\n",
              "\n",
              "          const docLinkHtml = 'Like what you see? Visit the ' +\n",
              "            '<a target=\"_blank\" href=https://colab.research.google.com/notebooks/data_table.ipynb>data table notebook</a>'\n",
              "            + ' to learn more about interactive tables.';\n",
              "          element.innerHTML = '';\n",
              "          dataTable['output_type'] = 'display_data';\n",
              "          await google.colab.output.renderOutput(dataTable, element);\n",
              "          const docLink = document.createElement('div');\n",
              "          docLink.innerHTML = docLinkHtml;\n",
              "          element.appendChild(docLink);\n",
              "        }\n",
              "      </script>\n",
              "    </div>\n",
              "  </div>\n",
              "  "
            ]
          },
          "metadata": {},
          "execution_count": 96
        }
      ]
    },
    {
      "cell_type": "code",
      "source": [
        "# to show data size \n",
        "data.shape"
      ],
      "metadata": {
        "colab": {
          "base_uri": "https://localhost:8080/"
        },
        "id": "Elh4lZ8Zu4WW",
        "outputId": "bef9c114-d182-4843-d482-f17353a0788d"
      },
      "execution_count": 97,
      "outputs": [
        {
          "output_type": "execute_result",
          "data": {
            "text/plain": [
              "(1025, 14)"
            ]
          },
          "metadata": {},
          "execution_count": 97
        }
      ]
    },
    {
      "cell_type": "code",
      "source": [
        "# show type of  features \n",
        "data.info()\n"
      ],
      "metadata": {
        "colab": {
          "base_uri": "https://localhost:8080/"
        },
        "id": "FoflvTPXu_2W",
        "outputId": "9bc0fd75-0595-4304-e438-e974df2c4477"
      },
      "execution_count": 98,
      "outputs": [
        {
          "output_type": "stream",
          "name": "stdout",
          "text": [
            "<class 'pandas.core.frame.DataFrame'>\n",
            "RangeIndex: 1025 entries, 0 to 1024\n",
            "Data columns (total 14 columns):\n",
            " #   Column    Non-Null Count  Dtype  \n",
            "---  ------    --------------  -----  \n",
            " 0   age       1025 non-null   int64  \n",
            " 1   sex       1025 non-null   int64  \n",
            " 2   cp        1025 non-null   int64  \n",
            " 3   trestbps  1025 non-null   int64  \n",
            " 4   chol      1025 non-null   int64  \n",
            " 5   fbs       1025 non-null   int64  \n",
            " 6   restecg   1025 non-null   int64  \n",
            " 7   thalach   1025 non-null   int64  \n",
            " 8   exang     1025 non-null   int64  \n",
            " 9   oldpeak   1025 non-null   float64\n",
            " 10  slope     1025 non-null   int64  \n",
            " 11  ca        1025 non-null   int64  \n",
            " 12  thal      1025 non-null   int64  \n",
            " 13  target    1025 non-null   int64  \n",
            "dtypes: float64(1), int64(13)\n",
            "memory usage: 112.2 KB\n"
          ]
        }
      ]
    },
    {
      "cell_type": "markdown",
      "source": [
        "# preprocessing Data \n"
      ],
      "metadata": {
        "id": "A_IYjsvTzCtg"
      }
    },
    {
      "cell_type": "code",
      "source": [
        "#replace missing value \n",
        "data['thalach'] = data['thalach'].fillna(data['thalach'].mean())"
      ],
      "metadata": {
        "id": "cnC7YduOzGe1"
      },
      "execution_count": 99,
      "outputs": []
    },
    {
      "cell_type": "code",
      "source": [
        "'''\n",
        "#Check duplicate rows in data\n",
        "duplicate_rows = data[data.duplicated()]\n",
        "print(\"Number of duplicate rows :: \", duplicate_rows.shape)\n",
        "#we have one duplicate row.\n",
        "#Removing the duplicate row\n",
        "data1 = data.drop_duplicates()\n",
        "duplicate_rows = data1[data1.duplicated()]\n",
        "print(\"Number of duplicate rows :: \", duplicate_rows.shape)\n",
        "'''"
      ],
      "metadata": {
        "colab": {
          "base_uri": "https://localhost:8080/",
          "height": 71
        },
        "id": "qdAQI4SSzLCV",
        "outputId": "7ccad465-fc06-4f06-93a5-bed21f0121f6"
      },
      "execution_count": 100,
      "outputs": [
        {
          "output_type": "execute_result",
          "data": {
            "text/plain": [
              "'\\n#Check duplicate rows in data\\nduplicate_rows = data[data.duplicated()]\\nprint(\"Number of duplicate rows :: \", duplicate_rows.shape)\\n#we have one duplicate row.\\n#Removing the duplicate row\\ndata1 = data.drop_duplicates()\\nduplicate_rows = data1[data1.duplicated()]\\nprint(\"Number of duplicate rows :: \", duplicate_rows.shape)\\n'"
            ],
            "application/vnd.google.colaboratory.intrinsic+json": {
              "type": "string"
            }
          },
          "metadata": {},
          "execution_count": 100
        }
      ]
    },
    {
      "cell_type": "markdown",
      "source": [
        "# show age statistics\n"
      ],
      "metadata": {
        "id": "_UhqT4Bmwcsz"
      }
    },
    {
      "cell_type": "code",
      "source": [
        "\n",
        "plt.figure(figsize=(25,12))\n",
        "sns.set_context('notebook',font_scale = 2)\n",
        "sns.barplot(x=data.age.value_counts()[0:].index,y=data.age.value_counts()[0:].values)\n",
        "plt.tight_layout()"
      ],
      "metadata": {
        "colab": {
          "base_uri": "https://localhost:8080/",
          "height": 606
        },
        "id": "d4rdG6S4vHa5",
        "outputId": "1bdd714c-3793-495b-8c07-8c58c1326fe0"
      },
      "execution_count": 101,
      "outputs": [
        {
          "output_type": "display_data",
          "data": {
            "text/plain": [
              "<Figure size 1800x864 with 1 Axes>"
            ],
            "image/png": "[encoded data removed]"
          },
          "metadata": {
            "needs_background": "light"
          }
        }
      ]
    },
    {
      "cell_type": "code",
      "source": [
        "minAge=min(data.age)\n",
        "maxAge=max(data.age)\n",
        "meanAge=data.age.mean()\n",
        "print('Min Age :',minAge)\n",
        "print('Max Age :',maxAge)\n",
        "print('avarege  Age :',int(meanAge))"
      ],
      "metadata": {
        "colab": {
          "base_uri": "https://localhost:8080/"
        },
        "id": "xHHIzOo_vg0b",
        "outputId": "e8bde7f2-09b3-47e4-a0dd-c58629df49c8"
      },
      "execution_count": 102,
      "outputs": [
        {
          "output_type": "stream",
          "name": "stdout",
          "text": [
            "Min Age : 29\n",
            "Max Age : 77\n",
            "avarege  Age : 54\n"
          ]
        }
      ]
    },
    {
      "cell_type": "code",
      "source": [
        "Young = data[(data.age>=29)&(data.age<40)]\n",
        "Middle = data[(data.age>=40)&(data.age<54)]\n",
        "Elder = data[(data.age>54)]\n",
        "\n",
        "plt.figure(figsize=(23,10))\n",
        "sns.set_context('notebook',font_scale = 1.5)\n",
        "sns.barplot(x=['young ages','middle ages','elderly ages'],y=[len(Young),len(Middle),len(Elder)])\n",
        "plt.tight_layout()"
      ],
      "metadata": {
        "colab": {
          "base_uri": "https://localhost:8080/",
          "height": 552
        },
        "id": "dzVpMzbxweB1",
        "outputId": "c0a111b7-2a51-490b-ac4e-132ee23d90f1"
      },
      "execution_count": 103,
      "outputs": [
        {
          "output_type": "display_data",
          "data": {
            "text/plain": [
              "<Figure size 1656x720 with 1 Axes>"
            ],
            "image/png": "[encoded data removed]"
          },
          "metadata": {
            "needs_background": "light"
          }
        }
      ]
    },
    {
      "cell_type": "code",
      "source": [
        "colors = ['pink','cyan','purple']\n",
        "explode = [0,0,0.1]\n",
        "plt.figure(figsize=(10,10))\n",
        "sns.set_context('notebook',font_scale = 1.2)\n",
        "plt.pie([len(Young),len(Middle),len(Elder)],labels=['young ages','middle ages','elderly ages'],explode=explode,colors=colors, autopct='%1.1f%%')\n",
        "plt.tight_layout()"
      ],
      "metadata": {
        "colab": {
          "base_uri": "https://localhost:8080/",
          "height": 686
        },
        "id": "LlrTsbeKw9ei",
        "outputId": "b8e71f85-da5e-4f52-db30-62c67c9ca7df"
      },
      "execution_count": 104,
      "outputs": [
        {
          "output_type": "display_data",
          "data": {
            "text/plain": [
              "<Figure size 720x720 with 1 Axes>"
            ],
            "image/png": "[encoded data removed]"
          },
          "metadata": {}
        }
      ]
    },
    {
      "cell_type": "markdown",
      "source": [
        "# splitting dataset\n"
      ],
      "metadata": {
        "id": "Ntcj-iGA0IYX"
      }
    },
    {
      "cell_type": "code",
      "source": [
        "#detect data information and target label \n",
        "x= data.iloc[:,0:13].values \n",
        "y= data['target'].values\n",
        "#split data \n",
        "x_train, x_test, y_train, y_test= train_test_split(x, y, test_size= 0.2, random_state=42,stratify=y)\n",
        "#scale down the data \n",
        "st_x= StandardScaler()    \n",
        "x_train= st_x.fit_transform(x_train)    \n",
        "x_test= st_x.transform(x_test)  \n",
        "print(x_train.shape)\n",
        "print(x_test.shape)"
      ],
      "metadata": {
        "colab": {
          "base_uri": "https://localhost:8080/"
        },
        "id": "QnsLaLWa0RW7",
        "outputId": "2c3f7e00-2d7e-4b5a-c262-7c5f9abd3830"
      },
      "execution_count": 105,
      "outputs": [
        {
          "output_type": "stream",
          "name": "stdout",
          "text": [
            "(820, 13)\n",
            "(205, 13)\n"
          ]
        }
      ]
    },
    {
      "cell_type": "markdown",
      "source": [
        "# The KNN Machine Learning Algorithm"
      ],
      "metadata": {
        "id": "75VNta1w0ypC"
      }
    },
    {
      "cell_type": "code",
      "source": [
        "# estimate error rate \n",
        "error = []\n",
        "# Calculating error for K values between 1 and 30\n",
        "for i in range(1, 30):\n",
        "    knn = KNeighborsClassifier(n_neighbors=i)\n",
        "    knn.fit(x_train, y_train)\n",
        "    pred_i = knn.predict(x_test)\n",
        "    error.append(np.mean(pred_i != y_test))\n",
        "print(\"Minimum error:-\",min(error),\"at K =\",error.index(min(error))+1)"
      ],
      "metadata": {
        "colab": {
          "base_uri": "https://localhost:8080/"
        },
        "id": "N22_kwGN0fbS",
        "outputId": "0d542698-75a4-4e79-885d-5943e7a18e8f"
      },
      "execution_count": 106,
      "outputs": [
        {
          "output_type": "stream",
          "name": "stdout",
          "text": [
            "Minimum error:- 0.0 at K = 1\n"
          ]
        }
      ]
    },
    {
      "cell_type": "code",
      "source": [
        "#plotting error rate \n",
        "plt.figure(figsize=(12, 6))\n",
        "plt.plot(range(1, 30), error, color='red', linestyle='dashed', marker='o',\n",
        "         markerfacecolor='blue', markersize=10)\n",
        "plt.title('Error Rate K Value')\n",
        "plt.xlabel('K Value')\n",
        "plt.ylabel('Mean Error')\n"
      ],
      "metadata": {
        "colab": {
          "base_uri": "https://localhost:8080/",
          "height": 433
        },
        "id": "xzv8bjFD0-PN",
        "outputId": "6c5469dc-bedc-4079-dac8-f1e71df12284"
      },
      "execution_count": 107,
      "outputs": [
        {
          "output_type": "execute_result",
          "data": {
            "text/plain": [
              "Text(0, 0.5, 'Mean Error')"
            ]
          },
          "metadata": {},
          "execution_count": 107
        },
        {
          "output_type": "display_data",
          "data": {
            "text/plain": [
              "<Figure size 864x432 with 1 Axes>"
            ],
            "image/png": "[encoded data removed]"
          },
          "metadata": {
            "needs_background": "light"
          }
        }
      ]
    },
    {
      "cell_type": "code",
      "source": [
        "#Apply K-NN Algorithm \n",
        "classifier= KNeighborsClassifier(n_neighbors=6)  \n",
        "classifier.fit(x_train, y_train)\n",
        "y_pred= classifier.predict(x_test) \n",
        "\n",
        "# print prediction results\n",
        "print(accuracy_score(y_test, y_pred)*100)\n",
        "print(classification_report(y_test, y_pred))\n",
        "# print confusion_matrix\n",
        "cm= confusion_matrix(y_test, y_pred)\n",
        "print(cm)\n"
      ],
      "metadata": {
        "colab": {
          "base_uri": "https://localhost:8080/"
        },
        "id": "ODrd_S1t1FL8",
        "outputId": "c183aa42-2652-45a5-9928-64984c3e6190"
      },
      "execution_count": 108,
      "outputs": [
        {
          "output_type": "stream",
          "name": "stdout",
          "text": [
            "84.8780487804878\n",
            "              precision    recall  f1-score   support\n",
            "\n",
            "           0       0.83      0.87      0.85       100\n",
            "           1       0.87      0.83      0.85       105\n",
            "\n",
            "    accuracy                           0.85       205\n",
            "   macro avg       0.85      0.85      0.85       205\n",
            "weighted avg       0.85      0.85      0.85       205\n",
            "\n",
            "[[87 13]\n",
            " [18 87]]\n"
          ]
        }
      ]
    },
    {
      "cell_type": "markdown",
      "source": [
        "# The SVM Machine Learning Algorithm\n"
      ],
      "metadata": {
        "id": "vCStuRhw2Rpf"
      }
    },
    {
      "cell_type": "code",
      "source": [
        "#Using SVC method of svm class to use Support Vector Machine Algorithm\n",
        "from sklearn.svm import SVC\n",
        "# train the model on train set\n",
        "model = SVC()\n",
        "model.fit(x_train, y_train)\n",
        "# print prediction results\n",
        "predictions = model.predict(x_test)\n",
        "print(accuracy_score(y_test, predictions)*100)\n",
        "print(classification_report(y_test, predictions))\n",
        "cm= confusion_matrix(y_test, y_pred)\n",
        "print(cm)"
      ],
      "metadata": {
        "colab": {
          "base_uri": "https://localhost:8080/"
        },
        "id": "B7zHdjAS2YX6",
        "outputId": "79112455-61c6-43c6-ad93-e2e97bc6e792"
      },
      "execution_count": 109,
      "outputs": [
        {
          "output_type": "stream",
          "name": "stdout",
          "text": [
            "92.6829268292683\n",
            "              precision    recall  f1-score   support\n",
            "\n",
            "           0       0.94      0.91      0.92       100\n",
            "           1       0.92      0.94      0.93       105\n",
            "\n",
            "    accuracy                           0.93       205\n",
            "   macro avg       0.93      0.93      0.93       205\n",
            "weighted avg       0.93      0.93      0.93       205\n",
            "\n",
            "[[87 13]\n",
            " [18 87]]\n"
          ]
        }
      ]
    },
    {
      "cell_type": "markdown",
      "source": [
        "# Use GridsearchCV\n"
      ],
      "metadata": {
        "id": "YbE11MPY4AvS"
      }
    },
    {
      "cell_type": "code",
      "source": [
        "from sklearn.model_selection import GridSearchCV\n",
        " \n",
        "# defining parameter range\n",
        "param_grid = {'C': [0.1, 1, 10, 100, 1000],\n",
        "              'gamma': [1, 0.1, 0.01, 0.001, 0.0001],\n",
        "              'kernel': ['rbf']}\n",
        " \n",
        "grid = GridSearchCV(SVC(), param_grid, refit = True, verbose = 3)\n",
        " \n",
        "# fitting the model for grid search\n",
        "grid.fit(x_train, y_train)\n"
      ],
      "metadata": {
        "colab": {
          "base_uri": "https://localhost:8080/"
        },
        "id": "RhuqIgLC1kWa",
        "outputId": "c0917525-8813-4b75-8942-db712ff4d820"
      },
      "execution_count": 110,
      "outputs": [
        {
          "output_type": "stream",
          "name": "stdout",
          "text": [
            "Fitting 5 folds for each of 25 candidates, totalling 125 fits\n",
            "[CV 1/5] END ........C=0.1, gamma=1, kernel=rbf;, score=0.512 total time=   0.0s\n",
            "[CV 2/5] END ........C=0.1, gamma=1, kernel=rbf;, score=0.512 total time=   0.0s\n",
            "[CV 3/5] END ........C=0.1, gamma=1, kernel=rbf;, score=0.512 total time=   0.0s\n",
            "[CV 4/5] END ........C=0.1, gamma=1, kernel=rbf;, score=0.512 total time=   0.0s\n",
            "[CV 5/5] END ........C=0.1, gamma=1, kernel=rbf;, score=0.518 total time=   0.0s\n",
            "[CV 1/5] END ......C=0.1, gamma=0.1, kernel=rbf;, score=0.878 total time=   0.0s\n",
            "[CV 2/5] END ......C=0.1, gamma=0.1, kernel=rbf;, score=0.866 total time=   0.0s\n",
            "[CV 3/5] END ......C=0.1, gamma=0.1, kernel=rbf;, score=0.854 total time=   0.0s\n",
            "[CV 4/5] END ......C=0.1, gamma=0.1, kernel=rbf;, score=0.860 total time=   0.0s\n",
            "[CV 5/5] END ......C=0.1, gamma=0.1, kernel=rbf;, score=0.829 total time=   0.0s\n",
            "[CV 1/5] END .....C=0.1, gamma=0.01, kernel=rbf;, score=0.848 total time=   0.0s\n",
            "[CV 2/5] END .....C=0.1, gamma=0.01, kernel=rbf;, score=0.866 total time=   0.0s\n",
            "[CV 3/5] END .....C=0.1, gamma=0.01, kernel=rbf;, score=0.805 total time=   0.0s\n",
            "[CV 4/5] END .....C=0.1, gamma=0.01, kernel=rbf;, score=0.841 total time=   0.0s\n",
            "[CV 5/5] END .....C=0.1, gamma=0.01, kernel=rbf;, score=0.793 total time=   0.0s\n",
            "[CV 1/5] END ....C=0.1, gamma=0.001, kernel=rbf;, score=0.512 total time=   0.0s\n",
            "[CV 2/5] END ....C=0.1, gamma=0.001, kernel=rbf;, score=0.512 total time=   0.0s\n",
            "[CV 3/5] END ....C=0.1, gamma=0.001, kernel=rbf;, score=0.512 total time=   0.0s\n",
            "[CV 4/5] END ....C=0.1, gamma=0.001, kernel=rbf;, score=0.512 total time=   0.0s\n",
            "[CV 5/5] END ....C=0.1, gamma=0.001, kernel=rbf;, score=0.518 total time=   0.0s\n",
            "[CV 1/5] END ...C=0.1, gamma=0.0001, kernel=rbf;, score=0.512 total time=   0.0s\n",
            "[CV 2/5] END ...C=0.1, gamma=0.0001, kernel=rbf;, score=0.512 total time=   0.0s\n",
            "[CV 3/5] END ...C=0.1, gamma=0.0001, kernel=rbf;, score=0.512 total time=   0.0s\n",
            "[CV 4/5] END ...C=0.1, gamma=0.0001, kernel=rbf;, score=0.512 total time=   0.1s\n",
            "[CV 5/5] END ...C=0.1, gamma=0.0001, kernel=rbf;, score=0.518 total time=   0.1s\n",
            "[CV 1/5] END ..........C=1, gamma=1, kernel=rbf;, score=0.963 total time=   0.0s\n",
            "[CV 2/5] END ..........C=1, gamma=1, kernel=rbf;, score=0.957 total time=   0.0s\n",
            "[CV 3/5] END ..........C=1, gamma=1, kernel=rbf;, score=0.988 total time=   0.0s\n",
            "[CV 4/5] END ..........C=1, gamma=1, kernel=rbf;, score=0.988 total time=   0.0s\n",
            "[CV 5/5] END ..........C=1, gamma=1, kernel=rbf;, score=0.982 total time=   0.0s\n",
            "[CV 1/5] END ........C=1, gamma=0.1, kernel=rbf;, score=0.945 total time=   0.0s\n",
            "[CV 2/5] END ........C=1, gamma=0.1, kernel=rbf;, score=0.951 total time=   0.0s\n",
            "[CV 3/5] END ........C=1, gamma=0.1, kernel=rbf;, score=0.921 total time=   0.0s\n",
            "[CV 4/5] END ........C=1, gamma=0.1, kernel=rbf;, score=0.896 total time=   0.0s\n",
            "[CV 5/5] END ........C=1, gamma=0.1, kernel=rbf;, score=0.945 total time=   0.0s\n",
            "[CV 1/5] END .......C=1, gamma=0.01, kernel=rbf;, score=0.866 total time=   0.0s\n",
            "[CV 2/5] END .......C=1, gamma=0.01, kernel=rbf;, score=0.860 total time=   0.0s\n",
            "[CV 3/5] END .......C=1, gamma=0.01, kernel=rbf;, score=0.848 total time=   0.0s\n",
            "[CV 4/5] END .......C=1, gamma=0.01, kernel=rbf;, score=0.854 total time=   0.0s\n",
            "[CV 5/5] END .......C=1, gamma=0.01, kernel=rbf;, score=0.805 total time=   0.0s\n",
            "[CV 1/5] END ......C=1, gamma=0.001, kernel=rbf;, score=0.835 total time=   0.0s\n",
            "[CV 2/5] END ......C=1, gamma=0.001, kernel=rbf;, score=0.854 total time=   0.0s\n",
            "[CV 3/5] END ......C=1, gamma=0.001, kernel=rbf;, score=0.811 total time=   0.0s\n",
            "[CV 4/5] END ......C=1, gamma=0.001, kernel=rbf;, score=0.841 total time=   0.0s\n",
            "[CV 5/5] END ......C=1, gamma=0.001, kernel=rbf;, score=0.780 total time=   0.0s\n",
            "[CV 1/5] END .....C=1, gamma=0.0001, kernel=rbf;, score=0.512 total time=   0.0s\n",
            "[CV 2/5] END .....C=1, gamma=0.0001, kernel=rbf;, score=0.512 total time=   0.0s\n",
            "[CV 3/5] END .....C=1, gamma=0.0001, kernel=rbf;, score=0.512 total time=   0.0s\n",
            "[CV 4/5] END .....C=1, gamma=0.0001, kernel=rbf;, score=0.512 total time=   0.0s\n",
            "[CV 5/5] END .....C=1, gamma=0.0001, kernel=rbf;, score=0.518 total time=   0.0s\n",
            "[CV 1/5] END .........C=10, gamma=1, kernel=rbf;, score=0.963 total time=   0.0s\n",
            "[CV 2/5] END .........C=10, gamma=1, kernel=rbf;, score=0.957 total time=   0.0s\n",
            "[CV 3/5] END .........C=10, gamma=1, kernel=rbf;, score=0.988 total time=   0.0s\n",
            "[CV 4/5] END .........C=10, gamma=1, kernel=rbf;, score=0.988 total time=   0.0s\n",
            "[CV 5/5] END .........C=10, gamma=1, kernel=rbf;, score=0.982 total time=   0.0s\n",
            "[CV 1/5] END .......C=10, gamma=0.1, kernel=rbf;, score=0.951 total time=   0.0s\n",
            "[CV 2/5] END .......C=10, gamma=0.1, kernel=rbf;, score=0.994 total time=   0.0s\n",
            "[CV 3/5] END .......C=10, gamma=0.1, kernel=rbf;, score=0.976 total time=   0.0s\n",
            "[CV 4/5] END .......C=10, gamma=0.1, kernel=rbf;, score=0.957 total time=   0.0s\n",
            "[CV 5/5] END .......C=10, gamma=0.1, kernel=rbf;, score=0.994 total time=   0.0s\n",
            "[CV 1/5] END ......C=10, gamma=0.01, kernel=rbf;, score=0.902 total time=   0.0s\n",
            "[CV 2/5] END ......C=10, gamma=0.01, kernel=rbf;, score=0.902 total time=   0.0s\n",
            "[CV 3/5] END ......C=10, gamma=0.01, kernel=rbf;, score=0.866 total time=   0.0s\n",
            "[CV 4/5] END ......C=10, gamma=0.01, kernel=rbf;, score=0.878 total time=   0.0s\n",
            "[CV 5/5] END ......C=10, gamma=0.01, kernel=rbf;, score=0.848 total time=   0.0s\n",
            "[CV 1/5] END .....C=10, gamma=0.001, kernel=rbf;, score=0.866 total time=   0.0s\n",
            "[CV 2/5] END .....C=10, gamma=0.001, kernel=rbf;, score=0.841 total time=   0.0s\n",
            "[CV 3/5] END .....C=10, gamma=0.001, kernel=rbf;, score=0.835 total time=   0.0s\n",
            "[CV 4/5] END .....C=10, gamma=0.001, kernel=rbf;, score=0.841 total time=   0.0s\n",
            "[CV 5/5] END .....C=10, gamma=0.001, kernel=rbf;, score=0.799 total time=   0.0s\n",
            "[CV 1/5] END ....C=10, gamma=0.0001, kernel=rbf;, score=0.835 total time=   0.0s\n",
            "[CV 2/5] END ....C=10, gamma=0.0001, kernel=rbf;, score=0.854 total time=   0.0s\n",
            "[CV 3/5] END ....C=10, gamma=0.0001, kernel=rbf;, score=0.811 total time=   0.0s\n",
            "[CV 4/5] END ....C=10, gamma=0.0001, kernel=rbf;, score=0.841 total time=   0.0s\n",
            "[CV 5/5] END ....C=10, gamma=0.0001, kernel=rbf;, score=0.780 total time=   0.0s\n",
            "[CV 1/5] END ........C=100, gamma=1, kernel=rbf;, score=0.963 total time=   0.0s\n",
            "[CV 2/5] END ........C=100, gamma=1, kernel=rbf;, score=0.957 total time=   0.0s\n",
            "[CV 3/5] END ........C=100, gamma=1, kernel=rbf;, score=0.988 total time=   0.0s\n",
            "[CV 4/5] END ........C=100, gamma=1, kernel=rbf;, score=0.988 total time=   0.0s\n",
            "[CV 5/5] END ........C=100, gamma=1, kernel=rbf;, score=0.982 total time=   0.0s\n",
            "[CV 1/5] END ......C=100, gamma=0.1, kernel=rbf;, score=0.957 total time=   0.0s\n",
            "[CV 2/5] END ......C=100, gamma=0.1, kernel=rbf;, score=0.994 total time=   0.0s\n",
            "[CV 3/5] END ......C=100, gamma=0.1, kernel=rbf;, score=0.982 total time=   0.0s\n",
            "[CV 4/5] END ......C=100, gamma=0.1, kernel=rbf;, score=0.963 total time=   0.0s\n",
            "[CV 5/5] END ......C=100, gamma=0.1, kernel=rbf;, score=1.000 total time=   0.0s\n",
            "[CV 1/5] END .....C=100, gamma=0.01, kernel=rbf;, score=0.915 total time=   0.0s\n",
            "[CV 2/5] END .....C=100, gamma=0.01, kernel=rbf;, score=0.915 total time=   0.0s\n",
            "[CV 3/5] END .....C=100, gamma=0.01, kernel=rbf;, score=0.927 total time=   0.0s\n",
            "[CV 4/5] END .....C=100, gamma=0.01, kernel=rbf;, score=0.921 total time=   0.0s\n",
            "[CV 5/5] END .....C=100, gamma=0.01, kernel=rbf;, score=0.927 total time=   0.0s\n",
            "[CV 1/5] END ....C=100, gamma=0.001, kernel=rbf;, score=0.866 total time=   0.0s\n",
            "[CV 2/5] END ....C=100, gamma=0.001, kernel=rbf;, score=0.866 total time=   0.0s\n",
            "[CV 3/5] END ....C=100, gamma=0.001, kernel=rbf;, score=0.860 total time=   0.0s\n",
            "[CV 4/5] END ....C=100, gamma=0.001, kernel=rbf;, score=0.878 total time=   0.0s\n",
            "[CV 5/5] END ....C=100, gamma=0.001, kernel=rbf;, score=0.835 total time=   0.0s\n",
            "[CV 1/5] END ...C=100, gamma=0.0001, kernel=rbf;, score=0.866 total time=   0.0s\n",
            "[CV 2/5] END ...C=100, gamma=0.0001, kernel=rbf;, score=0.841 total time=   0.0s\n",
            "[CV 3/5] END ...C=100, gamma=0.0001, kernel=rbf;, score=0.835 total time=   0.0s\n",
            "[CV 4/5] END ...C=100, gamma=0.0001, kernel=rbf;, score=0.841 total time=   0.0s\n",
            "[CV 5/5] END ...C=100, gamma=0.0001, kernel=rbf;, score=0.799 total time=   0.0s\n",
            "[CV 1/5] END .......C=1000, gamma=1, kernel=rbf;, score=0.963 total time=   0.0s\n",
            "[CV 2/5] END .......C=1000, gamma=1, kernel=rbf;, score=0.957 total time=   0.0s\n",
            "[CV 3/5] END .......C=1000, gamma=1, kernel=rbf;, score=0.988 total time=   0.0s\n",
            "[CV 4/5] END .......C=1000, gamma=1, kernel=rbf;, score=0.988 total time=   0.0s\n",
            "[CV 5/5] END .......C=1000, gamma=1, kernel=rbf;, score=0.982 total time=   0.0s\n",
            "[CV 1/5] END .....C=1000, gamma=0.1, kernel=rbf;, score=0.957 total time=   0.0s\n",
            "[CV 2/5] END .....C=1000, gamma=0.1, kernel=rbf;, score=0.994 total time=   0.0s\n",
            "[CV 3/5] END .....C=1000, gamma=0.1, kernel=rbf;, score=0.982 total time=   0.0s\n",
            "[CV 4/5] END .....C=1000, gamma=0.1, kernel=rbf;, score=0.963 total time=   0.0s\n",
            "[CV 5/5] END .....C=1000, gamma=0.1, kernel=rbf;, score=1.000 total time=   0.0s\n",
            "[CV 1/5] END ....C=1000, gamma=0.01, kernel=rbf;, score=0.951 total time=   0.0s\n",
            "[CV 2/5] END ....C=1000, gamma=0.01, kernel=rbf;, score=0.982 total time=   0.0s\n",
            "[CV 3/5] END ....C=1000, gamma=0.01, kernel=rbf;, score=0.963 total time=   0.0s\n",
            "[CV 4/5] END ....C=1000, gamma=0.01, kernel=rbf;, score=0.963 total time=   0.0s\n",
            "[CV 5/5] END ....C=1000, gamma=0.01, kernel=rbf;, score=0.970 total time=   0.0s\n",
            "[CV 1/5] END ...C=1000, gamma=0.001, kernel=rbf;, score=0.909 total time=   0.0s\n",
            "[CV 2/5] END ...C=1000, gamma=0.001, kernel=rbf;, score=0.915 total time=   0.0s\n",
            "[CV 3/5] END ...C=1000, gamma=0.001, kernel=rbf;, score=0.860 total time=   0.0s\n",
            "[CV 4/5] END ...C=1000, gamma=0.001, kernel=rbf;, score=0.878 total time=   0.0s\n",
            "[CV 5/5] END ...C=1000, gamma=0.001, kernel=rbf;, score=0.848 total time=   0.0s\n",
            "[CV 1/5] END ..C=1000, gamma=0.0001, kernel=rbf;, score=0.866 total time=   0.0s\n",
            "[CV 2/5] END ..C=1000, gamma=0.0001, kernel=rbf;, score=0.872 total time=   0.0s\n",
            "[CV 3/5] END ..C=1000, gamma=0.0001, kernel=rbf;, score=0.835 total time=   0.0s\n",
            "[CV 4/5] END ..C=1000, gamma=0.0001, kernel=rbf;, score=0.854 total time=   0.0s\n",
            "[CV 5/5] END ..C=1000, gamma=0.0001, kernel=rbf;, score=0.835 total time=   0.0s\n"
          ]
        },
        {
          "output_type": "execute_result",
          "data": {
            "text/plain": [
              "GridSearchCV(estimator=SVC(),\n",
              "             param_grid={'C': [0.1, 1, 10, 100, 1000],\n",
              "                         'gamma': [1, 0.1, 0.01, 0.001, 0.0001],\n",
              "                         'kernel': ['rbf']},\n",
              "             verbose=3)"
            ]
          },
          "metadata": {},
          "execution_count": 110
        }
      ]
    },
    {
      "cell_type": "code",
      "source": [
        "# print best parameter after tuning\n",
        "print(grid.best_params_)\n",
        " \n",
        "# print how our model looks after hyper-parameter tuning\n",
        "print(grid.best_estimator_)"
      ],
      "metadata": {
        "colab": {
          "base_uri": "https://localhost:8080/"
        },
        "id": "86LRKqG14KQG",
        "outputId": "f313b661-26a2-4a2b-df9e-2075da620c02"
      },
      "execution_count": 111,
      "outputs": [
        {
          "output_type": "stream",
          "name": "stdout",
          "text": [
            "{'C': 100, 'gamma': 0.1, 'kernel': 'rbf'}\n",
            "SVC(C=100, gamma=0.1)\n"
          ]
        }
      ]
    },
    {
      "cell_type": "code",
      "source": [
        "#re-run predictions and see a classification report on this grid \n",
        "grid_predictions = grid.predict(x_test)\n",
        "\n",
        "# print predict results \n",
        "print(accuracy_score(y_test, grid_predictions)*100)\n",
        "print(classification_report(y_test, grid_predictions))\n",
        "cm= confusion_matrix(y_test, y_pred)\n",
        "print(cm)"
      ],
      "metadata": {
        "colab": {
          "base_uri": "https://localhost:8080/"
        },
        "id": "n1LW0Ldv4Opp",
        "outputId": "ad06558a-b0c4-4eb0-b7c0-ba858c105ccb"
      },
      "execution_count": 112,
      "outputs": [
        {
          "output_type": "stream",
          "name": "stdout",
          "text": [
            "100.0\n",
            "              precision    recall  f1-score   support\n",
            "\n",
            "           0       1.00      1.00      1.00       100\n",
            "           1       1.00      1.00      1.00       105\n",
            "\n",
            "    accuracy                           1.00       205\n",
            "   macro avg       1.00      1.00      1.00       205\n",
            "weighted avg       1.00      1.00      1.00       205\n",
            "\n",
            "[[87 13]\n",
            " [18 87]]\n"
          ]
        }
      ]
    },
    {
      "cell_type": "markdown",
      "source": [
        "# Evaluation"
      ],
      "metadata": {
        "id": "_l_V0wVa2BI_"
      }
    },
    {
      "cell_type": "code",
      "source": [
        "#evalution \n",
        "input_data = [float(x) for x in input(\"Enter The Data for Patient: \").split()]\n",
        " \n",
        "input_data_as_numpy_array =np.asanyarray(input_data)\n",
        "\n",
        "input_data_reshaped = input_data_as_numpy_array.reshape(1,-1)\n",
        "\n",
        "prediction = classifier.predict(input_data_reshaped)\n",
        "print(prediction)\n",
        "\n",
        "if (prediction[0]==0):\n",
        "    print (\"The Person Do not Have a Heart Diseasse \")\n",
        "else:\n",
        "        print(\"The Person Has Heart Disease\")"
      ],
      "metadata": {
        "colab": {
          "base_uri": "https://localhost:8080/"
        },
        "id": "vvDj5_v82EO1",
        "outputId": "3dcaab0e-8771-4609-a176-401825ab0505"
      },
      "execution_count": 113,
      "outputs": [
        {
          "output_type": "stream",
          "name": "stdout",
          "text": [
            "Enter The Data for Patient: 62 \t1\t0 \t138 \t294 \t1 \t1 \t106 \t0 \t1.9 \t1 \t3 \t2\n",
            "[1]\n",
            "The Person Has Heart Disease\n"
          ]
        }
      ]
    },
    {
      "cell_type": "code",
      "source": [
        ""
      ],
      "metadata": {
        "id": "9fLpQ2aD2FB7"
      },
      "execution_count": 113,
      "outputs": []
    }
  ]
}